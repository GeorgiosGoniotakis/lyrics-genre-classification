{
 "cells": [
  {
   "cell_type": "markdown",
   "metadata": {
    "_uuid": "5f89fb1a64f63d3cb1845778718e695d2e5e3c2f"
   },
   "source": [
    "# Music Genre Classification - Preprocessing (380K)"
   ]
  },
  {
   "cell_type": "markdown",
   "metadata": {
    "_uuid": "445677aec882614fdcf5e33c8c3bce80462a1122"
   },
   "source": [
    "### Import necessary libraries"
   ]
  },
  {
   "cell_type": "code",
   "execution_count": 1,
   "metadata": {},
   "outputs": [],
   "source": [
    "import sys\n",
    "sys.path.append(\"../lib/utils/\")"
   ]
  },
  {
   "cell_type": "code",
   "execution_count": 2,
   "metadata": {
    "_uuid": "0f031d4e082fa5e36862b1a8851ad739d231d0ae"
   },
   "outputs": [],
   "source": [
    "import string\n",
    "import os\n",
    "import math"
   ]
  },
  {
   "cell_type": "code",
   "execution_count": 3,
   "metadata": {
    "_uuid": "c51e71216669186f8fbab180cb0b07cb66ff505a"
   },
   "outputs": [],
   "source": [
    "import pandas as pd\n",
    "import numpy as np\n",
    "import matplotlib.pyplot as plt\n",
    "import seaborn as sns\n",
    "import nltk\n",
    "%matplotlib inline"
   ]
  },
  {
   "cell_type": "code",
   "execution_count": 4,
   "metadata": {
    "_uuid": "ac9e04e2eaf81cc8fe0f88dc109c9cfc991cbe8b"
   },
   "outputs": [],
   "source": [
    "from wordcloud import WordCloud\n",
    "from nltk.util import ngrams\n",
    "from nltk.tokenize import RegexpTokenizer"
   ]
  },
  {
   "cell_type": "code",
   "execution_count": 5,
   "metadata": {
    "_uuid": "255eacb1d2134623cf4b6bc7ecf91b5c42d6d19f"
   },
   "outputs": [],
   "source": [
    "from nltk.corpus import stopwords\n",
    "from nltk.stem import SnowballStemmer"
   ]
  },
  {
   "cell_type": "code",
   "execution_count": 6,
   "metadata": {},
   "outputs": [],
   "source": [
    "from preprocess import *"
   ]
  },
  {
   "cell_type": "code",
   "execution_count": 7,
   "metadata": {
    "_uuid": "69bae3a9e1017d95eab6ebdd928522054ef2806d"
   },
   "outputs": [],
   "source": [
    "stop_words = stopwords.words('english')\n",
    "stemmer = SnowballStemmer('english')"
   ]
  },
  {
   "cell_type": "code",
   "execution_count": 8,
   "metadata": {
    "_uuid": "47de3b76162ddc7a1785c4a925f208328c4e8915"
   },
   "outputs": [],
   "source": [
    "# Parameters and definitions\n",
    "RANDOM_SEED = 0\n",
    "VAL_SET_SIZE = 0.2"
   ]
  },
  {
   "cell_type": "code",
   "execution_count": 9,
   "metadata": {
    "_uuid": "96e0dae0b6f3d3eb777e0fb4346da37ce9a4c959"
   },
   "outputs": [],
   "source": [
    "np.random.seed(RANDOM_SEED)\n",
    "sns.set(style=\"darkgrid\")"
   ]
  },
  {
   "cell_type": "markdown",
   "metadata": {
    "_uuid": "dbb4282c349d40ef1dd3e22eceaefb5028e44356"
   },
   "source": [
    "### File Paths"
   ]
  },
  {
   "cell_type": "code",
   "execution_count": 10,
   "metadata": {
    "_uuid": "c73b0d56a143137e5cdb3e4f0f7901ffc0987fb4"
   },
   "outputs": [],
   "source": [
    "DATASET = \"../data/380000.csv\"\n",
    "OUT_DATASET = \"../data/380000_clean.csv\"\n",
    "FIGURES_DIR = \"../figures/\""
   ]
  },
  {
   "cell_type": "markdown",
   "metadata": {
    "_uuid": "f467191eecaaee9b4d99c6cd9e44329448c3da37"
   },
   "source": [
    "### Helper Methods"
   ]
  },
  {
   "cell_type": "code",
   "execution_count": 11,
   "metadata": {
    "_uuid": "d7670080c67178cbb698ce77a08ae11159a20198"
   },
   "outputs": [],
   "source": [
    "def load_data():\n",
    "    \"\"\"Loads the training and testing sets into the memory.\n",
    "    \"\"\"\n",
    "    return pd.read_csv(DATASET)"
   ]
  },
  {
   "cell_type": "markdown",
   "metadata": {
    "_uuid": "a385d0a5a872f85110d62202d6656e86d5c9344a"
   },
   "source": [
    "### Data Wrangling"
   ]
  },
  {
   "cell_type": "code",
   "execution_count": 12,
   "metadata": {
    "_uuid": "2b9e67b4a894ac2605c08e2aa084b38551256369"
   },
   "outputs": [],
   "source": [
    "df = load_data()"
   ]
  },
  {
   "cell_type": "markdown",
   "metadata": {
    "_uuid": "9ffb71680e2dbd385ad22d495952e26c35af9ae9"
   },
   "source": [
    "### Exploratory Data Analysis"
   ]
  },
  {
   "cell_type": "code",
   "execution_count": 13,
   "metadata": {
    "_uuid": "84cb6b345734df010b12b22896e262f8dc5fe6a5",
    "scrolled": true
   },
   "outputs": [
    {
     "name": "stdout",
     "output_type": "stream",
     "text": [
      "Len. of data set: 362237\n"
     ]
    }
   ],
   "source": [
    "# Number of records\n",
    "prev_len = len(df)\n",
    "print(\"Len. of data set: {}\".format(prev_len))"
   ]
  },
  {
   "cell_type": "markdown",
   "metadata": {},
   "source": [
    "### Sanitize data"
   ]
  },
  {
   "cell_type": "code",
   "execution_count": 14,
   "metadata": {},
   "outputs": [
    {
     "name": "stdout",
     "output_type": "stream",
     "text": [
      "Len. of data set: 266556\n",
      "Number of elements removed: 95681\n"
     ]
    }
   ],
   "source": [
    "# Remove rows with N/A values\n",
    "df.dropna(inplace=True)\n",
    "\n",
    "# Number of records after removal\n",
    "print(\"Len. of data set: {}\".format(len(df)))\n",
    "\n",
    "# Records removed\n",
    "print(\"Number of elements removed: {}\".format(prev_len - len(df)))"
   ]
  },
  {
   "cell_type": "code",
   "execution_count": 15,
   "metadata": {},
   "outputs": [],
   "source": [
    "df_s = df.copy()\n",
    "df_s = preprocess_data(df_s, col=\"lyrics\")"
   ]
  },
  {
   "cell_type": "code",
   "execution_count": 16,
   "metadata": {},
   "outputs": [
    {
     "data": {
      "text/plain": [
       "\"Oh baby, how you doing?\\nYou know I'm gonna cut right to the chase\\nSome women were made but me, myself\\nI like to think that I was created for a special purpose\\nYou know, what's more special than you? You feel me\\nIt's on baby, let's get lost\\nYou don't need to call into work 'cause you're the boss\\nFor real, want you to show me how you feel\\nI consider myself lucky, that's a big deal\\nWhy? Well, you got the key to my heart\\nBut you ain't gonna need it, I'd rather you open up my body\\nAnd show me secrets, you didn't know was inside\\nNo need for me to lie\\nIt's too big, it's too wide\\nIt's too strong, it won't fit\\nIt's too much, it's too tough\\nHe talk like this 'cause he can back it up\\nHe got a big ego, such a huge ego\\nI love his big ego, it's too much\\nHe walk like this 'cause he can back it up\\nUsually I'm humble, right now I don't choose\\nYou can leave with me or you could have the blues\\nSome call it arrogant, I call it confident\\nYou decide when you find on what I'm working with\\nDamn I know I'm killing you with them legs\\nBetter yet them thighs\\nMatter a fact it's my smile or maybe my eyes\\nBoy you a site to see, kind of something like me\\nIt's too big, it's too wide\\nIt's too strong, it won't fit\\nIt's too much, it's too tough\\nI talk like this 'cause I can back it up\\nI got a big ego, such a huge ego\\nBut he love my big ego, it's too much\\nI walk like this 'cause I can back it up\\nI, I walk like this 'cause I can back it up\\nI, I talk like this 'cause I can back it up\\nI, I can back it up, I can back it up\\nI walk like this 'cause I can back it up\\nIt's too big, it's too wide\\nIt's too strong, it won't fit\\nIt's too much, it's too tough\\nHe talk like this 'cause he can back it up\\nHe got a big ego, such a huge ego, such a huge ego\\nI love his big ego, it's too much\\nHe walk like this 'cause he can back it up\\nEgo so big, you must admit\\nI got every reason to feel like I'm that bitch\\nEgo so strong, if you ain't know\\nI don't need no beat, I can sing it with piano\""
      ]
     },
     "execution_count": 16,
     "metadata": {},
     "output_type": "execute_result"
    }
   ],
   "source": [
    "df.iloc[0][\"lyrics\"]"
   ]
  },
  {
   "cell_type": "code",
   "execution_count": 17,
   "metadata": {},
   "outputs": [
    {
     "data": {
      "text/plain": [
       "'oh babi know im gonna cut right chase women made like think creat special purpos know what special feel babi let get lost dont need call work caus your boss real want show feel consid lucki that big deal well got key heart aint gonna need id rather open bodi show secret didnt know insid need lie big wide strong wont fit much tough talk like caus back got big ego huge ego love big ego much walk like caus back usual im humbl right dont choos leav could blue call arrog call confid decid find im work damn know im kill leg better yet thigh matter fact smile mayb eye boy site see kind someth like big wide strong wont fit much tough talk like caus back got big ego huge ego love big ego much walk like caus back walk like caus back talk like caus back back back walk like caus back big wide strong wont fit much tough talk like caus back got big ego huge ego huge ego love big ego much walk like caus back ego big must admit got everi reason feel like im bitch ego strong aint know dont need beat sing piano'"
      ]
     },
     "execution_count": 17,
     "metadata": {},
     "output_type": "execute_result"
    }
   ],
   "source": [
    "df_s.iloc[0][\"lyrics\"]"
   ]
  },
  {
   "cell_type": "markdown",
   "metadata": {},
   "source": [
    "### Export sanitized dataset to csv file"
   ]
  },
  {
   "cell_type": "code",
   "execution_count": 18,
   "metadata": {},
   "outputs": [],
   "source": [
    "df_s.drop(labels=[\"index\",\"song\",\"year\",\"artist\"], axis=1, inplace=True)\n",
    "df_s[\"genre\"] = df_s[\"genre\"].apply(to_lower)\n",
    "df_s.to_csv(OUT_DATASET, index=False)"
   ]
  },
  {
   "cell_type": "markdown",
   "metadata": {},
   "source": [
    "### Display the sanitized dataset"
   ]
  },
  {
   "cell_type": "code",
   "execution_count": 19,
   "metadata": {},
   "outputs": [
    {
     "data": {
      "text/html": [
       "<div>\n",
       "<style scoped>\n",
       "    .dataframe tbody tr th:only-of-type {\n",
       "        vertical-align: middle;\n",
       "    }\n",
       "\n",
       "    .dataframe tbody tr th {\n",
       "        vertical-align: top;\n",
       "    }\n",
       "\n",
       "    .dataframe thead th {\n",
       "        text-align: right;\n",
       "    }\n",
       "</style>\n",
       "<table border=\"1\" class=\"dataframe\">\n",
       "  <thead>\n",
       "    <tr style=\"text-align: right;\">\n",
       "      <th></th>\n",
       "      <th>genre</th>\n",
       "      <th>lyrics</th>\n",
       "    </tr>\n",
       "  </thead>\n",
       "  <tbody>\n",
       "    <tr>\n",
       "      <th>0</th>\n",
       "      <td>pop</td>\n",
       "      <td>oh babi know im gonna cut right chase women ma...</td>\n",
       "    </tr>\n",
       "    <tr>\n",
       "      <th>1</th>\n",
       "      <td>pop</td>\n",
       "      <td>playin everyth easi like seem sure still way d...</td>\n",
       "    </tr>\n",
       "    <tr>\n",
       "      <th>2</th>\n",
       "      <td>pop</td>\n",
       "      <td>search tender isnt hard find love need live lo...</td>\n",
       "    </tr>\n",
       "    <tr>\n",
       "      <th>3</th>\n",
       "      <td>pop</td>\n",
       "      <td>oh oh oh oh oh oh vers 1 wrote book stand titl...</td>\n",
       "    </tr>\n",
       "    <tr>\n",
       "      <th>4</th>\n",
       "      <td>pop</td>\n",
       "      <td>parti peopl peopl parti pop sit around see loo...</td>\n",
       "    </tr>\n",
       "    <tr>\n",
       "      <th>5</th>\n",
       "      <td>pop</td>\n",
       "      <td>heard church bell ring heard choir sing saw lo...</td>\n",
       "    </tr>\n",
       "    <tr>\n",
       "      <th>6</th>\n",
       "      <td>pop</td>\n",
       "      <td>anoth day would spend waitin right one stare n...</td>\n",
       "    </tr>\n",
       "    <tr>\n",
       "      <th>7</th>\n",
       "      <td>pop</td>\n",
       "      <td>wait wait wait wait wait wait wait wait wait w...</td>\n",
       "    </tr>\n",
       "    <tr>\n",
       "      <th>8</th>\n",
       "      <td>pop</td>\n",
       "      <td>vers 1 read magazin wait around said couldnt w...</td>\n",
       "    </tr>\n",
       "    <tr>\n",
       "      <th>9</th>\n",
       "      <td>pop</td>\n",
       "      <td>nnnow honey better sit look around caus mustv ...</td>\n",
       "    </tr>\n",
       "    <tr>\n",
       "      <th>10</th>\n",
       "      <td>pop</td>\n",
       "      <td>lay alon awak night sorrow fill eye im strong ...</td>\n",
       "    </tr>\n",
       "    <tr>\n",
       "      <th>11</th>\n",
       "      <td>pop</td>\n",
       "      <td>hello hello babi call cant hear thing got serv...</td>\n",
       "    </tr>\n",
       "    <tr>\n",
       "      <th>12</th>\n",
       "      <td>pop</td>\n",
       "      <td>feel like im lose mind love hard find led beli...</td>\n",
       "    </tr>\n",
       "    <tr>\n",
       "      <th>13</th>\n",
       "      <td>pop</td>\n",
       "      <td>your everyth thought never noth like thought c...</td>\n",
       "    </tr>\n",
       "    <tr>\n",
       "      <th>14</th>\n",
       "      <td>pop</td>\n",
       "      <td>gotta give quit storm rage insid way hit damag...</td>\n",
       "    </tr>\n",
       "    <tr>\n",
       "      <th>15</th>\n",
       "      <td>pop</td>\n",
       "      <td>realli hurt say yes sweet love aint enough man...</td>\n",
       "    </tr>\n",
       "    <tr>\n",
       "      <th>16</th>\n",
       "      <td>pop</td>\n",
       "      <td>your bad clear get dont see someth good could ...</td>\n",
       "    </tr>\n",
       "    <tr>\n",
       "      <th>17</th>\n",
       "      <td>pop</td>\n",
       "      <td>chorus im world wide woman www log anywher you...</td>\n",
       "    </tr>\n",
       "    <tr>\n",
       "      <th>18</th>\n",
       "      <td>pop</td>\n",
       "      <td>ay ay ay nobodi like play oh beyonc beyonc oh ...</td>\n",
       "    </tr>\n",
       "    <tr>\n",
       "      <th>19</th>\n",
       "      <td>pop</td>\n",
       "      <td>ay ay nobodi like play ay oh beyonc beyonc oh ...</td>\n",
       "    </tr>\n",
       "    <tr>\n",
       "      <th>20</th>\n",
       "      <td>pop</td>\n",
       "      <td>ay ay nobodi like play ay oh beyonc beyonc oh ...</td>\n",
       "    </tr>\n",
       "    <tr>\n",
       "      <th>21</th>\n",
       "      <td>pop</td>\n",
       "      <td>beyonc intro beyonc iam welcom welcom hey ohhh...</td>\n",
       "    </tr>\n",
       "    <tr>\n",
       "      <th>22</th>\n",
       "      <td>pop</td>\n",
       "      <td>ay ay nobodi like play ay oh beyonc beyonc oh ...</td>\n",
       "    </tr>\n",
       "    <tr>\n",
       "      <th>23</th>\n",
       "      <td>pop</td>\n",
       "      <td>took im final wanna testifi make crystal clear...</td>\n",
       "    </tr>\n",
       "    <tr>\n",
       "      <th>24</th>\n",
       "      <td>pop</td>\n",
       "      <td>ay ay ay oh beyonc beyonc oh beyonc beyonc hey...</td>\n",
       "    </tr>\n",
       "    <tr>\n",
       "      <th>25</th>\n",
       "      <td>pop</td>\n",
       "      <td>left left left left left left everyth box left...</td>\n",
       "    </tr>\n",
       "    <tr>\n",
       "      <th>26</th>\n",
       "      <td>pop</td>\n",
       "      <td>rememb first day saw face rememb first day smi...</td>\n",
       "    </tr>\n",
       "    <tr>\n",
       "      <th>27</th>\n",
       "      <td>pop</td>\n",
       "      <td>say hes wrong say hes good leav em alon caus h...</td>\n",
       "    </tr>\n",
       "    <tr>\n",
       "      <th>28</th>\n",
       "      <td>pop</td>\n",
       "      <td>1st vers hey what deal pop wanna good time try...</td>\n",
       "    </tr>\n",
       "    <tr>\n",
       "      <th>29</th>\n",
       "      <td>pop</td>\n",
       "      <td>alway laughin flirt act like dont even care ma...</td>\n",
       "    </tr>\n",
       "    <tr>\n",
       "      <th>...</th>\n",
       "      <td>...</td>\n",
       "      <td>...</td>\n",
       "    </tr>\n",
       "    <tr>\n",
       "      <th>266526</th>\n",
       "      <td>pop</td>\n",
       "      <td>hurrican spit tornado growl london today broug...</td>\n",
       "    </tr>\n",
       "    <tr>\n",
       "      <th>266527</th>\n",
       "      <td>pop</td>\n",
       "      <td>summon voic distanc star saturn spin melanchol...</td>\n",
       "    </tr>\n",
       "    <tr>\n",
       "      <th>266528</th>\n",
       "      <td>pop</td>\n",
       "      <td>lord sight accord thi choic lord dark forgiv v...</td>\n",
       "    </tr>\n",
       "    <tr>\n",
       "      <th>266529</th>\n",
       "      <td>pop</td>\n",
       "      <td>hurrican spit tornado growl london today broug...</td>\n",
       "    </tr>\n",
       "    <tr>\n",
       "      <th>266530</th>\n",
       "      <td>pop</td>\n",
       "      <td>instrument</td>\n",
       "    </tr>\n",
       "    <tr>\n",
       "      <th>266531</th>\n",
       "      <td>pop</td>\n",
       "      <td>pull appl cart silveri hill higher heaven reve...</td>\n",
       "    </tr>\n",
       "    <tr>\n",
       "      <th>266532</th>\n",
       "      <td>pop</td>\n",
       "      <td>wake long feel warmth sun face tell face ive g...</td>\n",
       "    </tr>\n",
       "    <tr>\n",
       "      <th>266533</th>\n",
       "      <td>pop</td>\n",
       "      <td>know know river shallow alway go back moment f...</td>\n",
       "    </tr>\n",
       "    <tr>\n",
       "      <th>266534</th>\n",
       "      <td>pop</td>\n",
       "      <td>arrhythmia accept live uncertainti your lone p...</td>\n",
       "    </tr>\n",
       "    <tr>\n",
       "      <th>266535</th>\n",
       "      <td>pop</td>\n",
       "      <td>injili injili sing bout mr tembo hes got first...</td>\n",
       "    </tr>\n",
       "    <tr>\n",
       "      <th>266536</th>\n",
       "      <td>pop</td>\n",
       "      <td>everyday robot phone process get home look lik...</td>\n",
       "    </tr>\n",
       "    <tr>\n",
       "      <th>266537</th>\n",
       "      <td>pop</td>\n",
       "      <td>soul isnt right raw night hand trace dark come...</td>\n",
       "    </tr>\n",
       "    <tr>\n",
       "      <th>266538</th>\n",
       "      <td>pop</td>\n",
       "      <td>photograph your take taken heavi cloud hide su...</td>\n",
       "    </tr>\n",
       "    <tr>\n",
       "      <th>266539</th>\n",
       "      <td>pop</td>\n",
       "      <td>met moko jumbi walk stilt saint row look brew ...</td>\n",
       "    </tr>\n",
       "    <tr>\n",
       "      <th>266540</th>\n",
       "      <td>pop</td>\n",
       "      <td>chill hollow pond set sail kid heat wave hit u...</td>\n",
       "    </tr>\n",
       "    <tr>\n",
       "      <th>266541</th>\n",
       "      <td>pop</td>\n",
       "      <td>celebr pass drug put back seat theyr cours blo...</td>\n",
       "    </tr>\n",
       "    <tr>\n",
       "      <th>266542</th>\n",
       "      <td>pop</td>\n",
       "      <td>serv done parish shuffl may frequenc come keep...</td>\n",
       "    </tr>\n",
       "    <tr>\n",
       "      <th>266543</th>\n",
       "      <td>other</td>\n",
       "      <td>trilo hãr ãr han nãra land</td>\n",
       "    </tr>\n",
       "    <tr>\n",
       "      <th>266544</th>\n",
       "      <td>other</td>\n",
       "      <td>day get dark night grow cold time pass fast se...</td>\n",
       "    </tr>\n",
       "    <tr>\n",
       "      <th>266545</th>\n",
       "      <td>other</td>\n",
       "      <td>youll never know name pictur hang wall stupid ...</td>\n",
       "    </tr>\n",
       "    <tr>\n",
       "      <th>266546</th>\n",
       "      <td>country</td>\n",
       "      <td>walk shine brighter headlight turn everi head ...</td>\n",
       "    </tr>\n",
       "    <tr>\n",
       "      <th>266547</th>\n",
       "      <td>country</td>\n",
       "      <td>warn tank low shoulda stop gas ten mile ago ba...</td>\n",
       "    </tr>\n",
       "    <tr>\n",
       "      <th>266548</th>\n",
       "      <td>country</td>\n",
       "      <td>first poni cherri pie littl girl taught fli su...</td>\n",
       "    </tr>\n",
       "    <tr>\n",
       "      <th>266549</th>\n",
       "      <td>country</td>\n",
       "      <td>two year ago yesterday might make sens that wa...</td>\n",
       "    </tr>\n",
       "    <tr>\n",
       "      <th>266550</th>\n",
       "      <td>country</td>\n",
       "      <td>youv got texa way walk youv got sexi way talk ...</td>\n",
       "    </tr>\n",
       "    <tr>\n",
       "      <th>266551</th>\n",
       "      <td>country</td>\n",
       "      <td>gotta say boy coupl date your hand outright bl...</td>\n",
       "    </tr>\n",
       "    <tr>\n",
       "      <th>266552</th>\n",
       "      <td>country</td>\n",
       "      <td>help find diamond ring made tri everyth tomorr...</td>\n",
       "    </tr>\n",
       "    <tr>\n",
       "      <th>266553</th>\n",
       "      <td>country</td>\n",
       "      <td>look coupl corner booth look lot like shes loo...</td>\n",
       "    </tr>\n",
       "    <tr>\n",
       "      <th>266554</th>\n",
       "      <td>country</td>\n",
       "      <td>fli mortal earth im measur depth girth father ...</td>\n",
       "    </tr>\n",
       "    <tr>\n",
       "      <th>266555</th>\n",
       "      <td>country</td>\n",
       "      <td>heard friend friend friend final got rid girlf...</td>\n",
       "    </tr>\n",
       "  </tbody>\n",
       "</table>\n",
       "<p>266556 rows × 2 columns</p>\n",
       "</div>"
      ],
      "text/plain": [
       "          genre                                             lyrics\n",
       "0           pop  oh babi know im gonna cut right chase women ma...\n",
       "1           pop  playin everyth easi like seem sure still way d...\n",
       "2           pop  search tender isnt hard find love need live lo...\n",
       "3           pop  oh oh oh oh oh oh vers 1 wrote book stand titl...\n",
       "4           pop  parti peopl peopl parti pop sit around see loo...\n",
       "5           pop  heard church bell ring heard choir sing saw lo...\n",
       "6           pop  anoth day would spend waitin right one stare n...\n",
       "7           pop  wait wait wait wait wait wait wait wait wait w...\n",
       "8           pop  vers 1 read magazin wait around said couldnt w...\n",
       "9           pop  nnnow honey better sit look around caus mustv ...\n",
       "10          pop  lay alon awak night sorrow fill eye im strong ...\n",
       "11          pop  hello hello babi call cant hear thing got serv...\n",
       "12          pop  feel like im lose mind love hard find led beli...\n",
       "13          pop  your everyth thought never noth like thought c...\n",
       "14          pop  gotta give quit storm rage insid way hit damag...\n",
       "15          pop  realli hurt say yes sweet love aint enough man...\n",
       "16          pop  your bad clear get dont see someth good could ...\n",
       "17          pop  chorus im world wide woman www log anywher you...\n",
       "18          pop  ay ay ay nobodi like play oh beyonc beyonc oh ...\n",
       "19          pop  ay ay nobodi like play ay oh beyonc beyonc oh ...\n",
       "20          pop  ay ay nobodi like play ay oh beyonc beyonc oh ...\n",
       "21          pop  beyonc intro beyonc iam welcom welcom hey ohhh...\n",
       "22          pop  ay ay nobodi like play ay oh beyonc beyonc oh ...\n",
       "23          pop  took im final wanna testifi make crystal clear...\n",
       "24          pop  ay ay ay oh beyonc beyonc oh beyonc beyonc hey...\n",
       "25          pop  left left left left left left everyth box left...\n",
       "26          pop  rememb first day saw face rememb first day smi...\n",
       "27          pop  say hes wrong say hes good leav em alon caus h...\n",
       "28          pop  1st vers hey what deal pop wanna good time try...\n",
       "29          pop  alway laughin flirt act like dont even care ma...\n",
       "...         ...                                                ...\n",
       "266526      pop  hurrican spit tornado growl london today broug...\n",
       "266527      pop  summon voic distanc star saturn spin melanchol...\n",
       "266528      pop  lord sight accord thi choic lord dark forgiv v...\n",
       "266529      pop  hurrican spit tornado growl london today broug...\n",
       "266530      pop                                         instrument\n",
       "266531      pop  pull appl cart silveri hill higher heaven reve...\n",
       "266532      pop  wake long feel warmth sun face tell face ive g...\n",
       "266533      pop  know know river shallow alway go back moment f...\n",
       "266534      pop  arrhythmia accept live uncertainti your lone p...\n",
       "266535      pop  injili injili sing bout mr tembo hes got first...\n",
       "266536      pop  everyday robot phone process get home look lik...\n",
       "266537      pop  soul isnt right raw night hand trace dark come...\n",
       "266538      pop  photograph your take taken heavi cloud hide su...\n",
       "266539      pop  met moko jumbi walk stilt saint row look brew ...\n",
       "266540      pop  chill hollow pond set sail kid heat wave hit u...\n",
       "266541      pop  celebr pass drug put back seat theyr cours blo...\n",
       "266542      pop  serv done parish shuffl may frequenc come keep...\n",
       "266543    other                         trilo hãr ãr han nãra land\n",
       "266544    other  day get dark night grow cold time pass fast se...\n",
       "266545    other  youll never know name pictur hang wall stupid ...\n",
       "266546  country  walk shine brighter headlight turn everi head ...\n",
       "266547  country  warn tank low shoulda stop gas ten mile ago ba...\n",
       "266548  country  first poni cherri pie littl girl taught fli su...\n",
       "266549  country  two year ago yesterday might make sens that wa...\n",
       "266550  country  youv got texa way walk youv got sexi way talk ...\n",
       "266551  country  gotta say boy coupl date your hand outright bl...\n",
       "266552  country  help find diamond ring made tri everyth tomorr...\n",
       "266553  country  look coupl corner booth look lot like shes loo...\n",
       "266554  country  fli mortal earth im measur depth girth father ...\n",
       "266555  country  heard friend friend friend final got rid girlf...\n",
       "\n",
       "[266556 rows x 2 columns]"
      ]
     },
     "execution_count": 19,
     "metadata": {},
     "output_type": "execute_result"
    }
   ],
   "source": [
    "pd.read_csv(OUT_DATASET)"
   ]
  }
 ],
 "metadata": {
  "kernelspec": {
   "display_name": "Python 3",
   "language": "python",
   "name": "python3"
  },
  "language_info": {
   "codemirror_mode": {
    "name": "ipython",
    "version": 3
   },
   "file_extension": ".py",
   "mimetype": "text/x-python",
   "name": "python",
   "nbconvert_exporter": "python",
   "pygments_lexer": "ipython3",
   "version": "3.7.1"
  }
 },
 "nbformat": 4,
 "nbformat_minor": 1
}
